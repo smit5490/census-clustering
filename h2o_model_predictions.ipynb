{
 "cells": [
  {
   "cell_type": "code",
   "execution_count": 1,
   "id": "israeli-mention",
   "metadata": {},
   "outputs": [],
   "source": [
    "import h2o\n",
    "import numpy as np\n",
    "from pysparkling.ml import *\n",
    "import pyspark\n",
    "from pyspark.sql import SparkSession\n",
    "from pyspark.sql.functions import posexplode, monotonically_increasing_id, explode\n",
    "import pyspark.sql.functions as F\n",
    "import pandas as pd\n",
    "from pyspark.mllib.linalg import DenseMatrix, Matrices\n",
    "from pyspark.mllib.linalg import Vector as MLLibVector, Vectors as MLLibVectors\n",
    "from pyspark.mllib.linalg.distributed import IndexedRow, IndexedRowMatrix\n",
    "from pyspark.ml.feature import VectorAssembler\n",
    "pd.set_option(\"max.columns\", None)"
   ]
  },
  {
   "cell_type": "code",
   "execution_count": 2,
   "id": "tough-pollution",
   "metadata": {},
   "outputs": [],
   "source": [
    "spark = SparkSession.builder.getOrCreate()"
   ]
  },
  {
   "cell_type": "code",
   "execution_count": 3,
   "id": "confused-election",
   "metadata": {},
   "outputs": [
    {
     "data": {
      "text/html": [
       "\n",
       "            <div>\n",
       "                <p><b>SparkSession - in-memory</b></p>\n",
       "                \n",
       "        <div>\n",
       "            <p><b>SparkContext</b></p>\n",
       "\n",
       "            <p><a href=\"http://192.168.0.12:4040\">Spark UI</a></p>\n",
       "\n",
       "            <dl>\n",
       "              <dt>Version</dt>\n",
       "                <dd><code>v2.4.3</code></dd>\n",
       "              <dt>Master</dt>\n",
       "                <dd><code>local[*]</code></dd>\n",
       "              <dt>AppName</dt>\n",
       "                <dd><code>pyspark-shell</code></dd>\n",
       "            </dl>\n",
       "        </div>\n",
       "        \n",
       "            </div>\n",
       "        "
      ],
      "text/plain": [
       "<pyspark.sql.session.SparkSession at 0x126fa6898>"
      ]
     },
     "execution_count": 3,
     "metadata": {},
     "output_type": "execute_result"
    }
   ],
   "source": [
    "spark"
   ]
  },
  {
   "cell_type": "code",
   "execution_count": 4,
   "id": "trained-victim",
   "metadata": {},
   "outputs": [],
   "source": [
    "# help(H2OMOJOSettings)"
   ]
  },
  {
   "cell_type": "code",
   "execution_count": 5,
   "id": "developed-republic",
   "metadata": {},
   "outputs": [],
   "source": [
    "model = H2OMOJOModel.createFromMojo(\"GLRM_model_python_1614873327762_1.zip\")"
   ]
  },
  {
   "cell_type": "code",
   "execution_count": 6,
   "id": "accessory-mineral",
   "metadata": {},
   "outputs": [],
   "source": [
    "spark_df = spark.read.csv(\"ACS_13_5YR_DP02_cleaned.csv\", header = True, inferSchema = True)\n",
    "spark_df = spark_df.drop(\"ZCTA5\")\n",
    "\n",
    "for col_name in spark_df.columns:\n",
    "    spark_df = spark_df.withColumn(col_name, F.col(col_name).cast('float'))\n",
    "\n",
    "spark_df = spark_df.withColumn(\"columnindex\", monotonically_increasing_id())"
   ]
  },
  {
   "cell_type": "code",
   "execution_count": 7,
   "id": "searching-fraction",
   "metadata": {},
   "outputs": [
    {
     "name": "stdout",
     "output_type": "stream",
     "text": [
      "Initial Partitions:4\n"
     ]
    }
   ],
   "source": [
    "print(\"Initial Partitions:\" + str(spark_df.rdd.getNumPartitions()))"
   ]
  },
  {
   "cell_type": "markdown",
   "id": "bibliographic-redhead",
   "metadata": {},
   "source": [
    "# Predictions without Coalesce"
   ]
  },
  {
   "cell_type": "code",
   "execution_count": 8,
   "id": "instant-romania",
   "metadata": {},
   "outputs": [],
   "source": [
    "preds = model.transform(spark_df)"
   ]
  },
  {
   "cell_type": "code",
   "execution_count": 10,
   "id": "foreign-safety",
   "metadata": {},
   "outputs": [
    {
     "data": {
      "text/html": [
       "<div>\n",
       "<style scoped>\n",
       "    .dataframe tbody tr th:only-of-type {\n",
       "        vertical-align: middle;\n",
       "    }\n",
       "\n",
       "    .dataframe tbody tr th {\n",
       "        vertical-align: top;\n",
       "    }\n",
       "\n",
       "    .dataframe thead th {\n",
       "        text-align: right;\n",
       "    }\n",
       "</style>\n",
       "<table border=\"1\" class=\"dataframe\">\n",
       "  <thead>\n",
       "    <tr style=\"text-align: right;\">\n",
       "      <th></th>\n",
       "      <th>total_households</th>\n",
       "      <th>family_households</th>\n",
       "      <th>families_w_children_under_18</th>\n",
       "      <th>prediction</th>\n",
       "    </tr>\n",
       "  </thead>\n",
       "  <tbody>\n",
       "    <tr>\n",
       "      <th>0</th>\n",
       "      <td>7056.0</td>\n",
       "      <td>4085.0</td>\n",
       "      <td>1678.0</td>\n",
       "      <td>([-1.0155266326488948, 0.037445892075809166, 0...</td>\n",
       "    </tr>\n",
       "  </tbody>\n",
       "</table>\n",
       "</div>"
      ],
      "text/plain": [
       "   total_households  family_households  families_w_children_under_18  \\\n",
       "0            7056.0             4085.0                        1678.0   \n",
       "\n",
       "                                          prediction  \n",
       "0  ([-1.0155266326488948, 0.037445892075809166, 0...  "
      ]
     },
     "execution_count": 10,
     "metadata": {},
     "output_type": "execute_result"
    }
   ],
   "source": [
    "preds.select(\"total_households\", \"family_households\", \"families_w_children_under_18\",\"prediction\").limit(1).toPandas()"
   ]
  },
  {
   "cell_type": "code",
   "execution_count": 12,
   "id": "surface-advisory",
   "metadata": {},
   "outputs": [
    {
     "name": "stdout",
     "output_type": "stream",
     "text": [
      "+-----------+--------------------+\n",
      "|columnindex|                 col|\n",
      "+-----------+--------------------+\n",
      "|          0| -1.0155266326488948|\n",
      "|          0|0.037445892075809166|\n",
      "|          0| 0.10817576042121546|\n",
      "|          0| -0.2908371756267977|\n",
      "|          0| 0.03729210222908052|\n",
      "|          0|-0.43742208666031224|\n",
      "|          0| -0.8294971394172237|\n",
      "|          0|-0.11786640997612814|\n",
      "|          0|-0.07054274199263487|\n",
      "|          0| 0.14194849295052916|\n",
      "+-----------+--------------------+\n",
      "only showing top 10 rows\n",
      "\n"
     ]
    }
   ],
   "source": [
    "prediction = preds.select([\"columnindex\",\"prediction.*\"])\n",
    "prediction.select(\"columnindex\",F.explode(F.col(\"dimensions\"))).show(10)"
   ]
  },
  {
   "cell_type": "code",
   "execution_count": 13,
   "id": "fancy-syracuse",
   "metadata": {},
   "outputs": [
    {
     "name": "stdout",
     "output_type": "stream",
     "text": [
      "+-----------+--------------------+\n",
      "|columnindex|                 col|\n",
      "+-----------+--------------------+\n",
      "|25769805880| -0.7630376934081667|\n",
      "|25769805880| 0.04222480619531732|\n",
      "|25769805880| 0.10292224631855686|\n",
      "|25769805880|-0.22639464082485053|\n",
      "|25769805880|-0.04749883767023598|\n",
      "|25769805880| -0.5637302680349653|\n",
      "|25769805880| -1.0651128528810487|\n",
      "|25769805880|-0.08372312815885755|\n",
      "|25769805880|-0.21484516371447193|\n",
      "|25769805880| 0.08854260735773849|\n",
      "+-----------+--------------------+\n",
      "\n"
     ]
    }
   ],
   "source": [
    "prediction.select(\"columnindex\",\n",
    "                  F.explode(F.col(\"dimensions\"))).where(F.col(\"columnindex\")==25769805880).show()"
   ]
  },
  {
   "cell_type": "code",
   "execution_count": 14,
   "id": "caring-commercial",
   "metadata": {},
   "outputs": [
    {
     "data": {
      "text/html": [
       "<div>\n",
       "<style scoped>\n",
       "    .dataframe tbody tr th:only-of-type {\n",
       "        vertical-align: middle;\n",
       "    }\n",
       "\n",
       "    .dataframe tbody tr th {\n",
       "        vertical-align: top;\n",
       "    }\n",
       "\n",
       "    .dataframe thead th {\n",
       "        text-align: right;\n",
       "    }\n",
       "</style>\n",
       "<table border=\"1\" class=\"dataframe\">\n",
       "  <thead>\n",
       "    <tr style=\"text-align: right;\">\n",
       "      <th></th>\n",
       "      <th>columnindex</th>\n",
       "      <th>dim_0</th>\n",
       "      <th>dim_1</th>\n",
       "      <th>dim_2</th>\n",
       "      <th>dim_3</th>\n",
       "      <th>dim_4</th>\n",
       "      <th>dim_5</th>\n",
       "      <th>dim_6</th>\n",
       "      <th>dim_7</th>\n",
       "      <th>dim_8</th>\n",
       "      <th>dim_9</th>\n",
       "    </tr>\n",
       "  </thead>\n",
       "  <tbody>\n",
       "    <tr>\n",
       "      <th>0</th>\n",
       "      <td>0</td>\n",
       "      <td>-1.015527</td>\n",
       "      <td>0.037446</td>\n",
       "      <td>0.108176</td>\n",
       "      <td>-0.290837</td>\n",
       "      <td>0.037292</td>\n",
       "      <td>-0.437422</td>\n",
       "      <td>-0.829497</td>\n",
       "      <td>-0.117866</td>\n",
       "      <td>-0.070543</td>\n",
       "      <td>0.141948</td>\n",
       "    </tr>\n",
       "    <tr>\n",
       "      <th>1</th>\n",
       "      <td>1</td>\n",
       "      <td>-1.904077</td>\n",
       "      <td>0.071128</td>\n",
       "      <td>0.174555</td>\n",
       "      <td>-0.974073</td>\n",
       "      <td>0.181103</td>\n",
       "      <td>-0.770220</td>\n",
       "      <td>-1.145675</td>\n",
       "      <td>-0.126716</td>\n",
       "      <td>-0.050403</td>\n",
       "      <td>0.231671</td>\n",
       "    </tr>\n",
       "    <tr>\n",
       "      <th>2</th>\n",
       "      <td>2</td>\n",
       "      <td>-0.393558</td>\n",
       "      <td>-0.008361</td>\n",
       "      <td>-0.023525</td>\n",
       "      <td>-0.211169</td>\n",
       "      <td>0.062322</td>\n",
       "      <td>-0.513738</td>\n",
       "      <td>0.258782</td>\n",
       "      <td>0.048655</td>\n",
       "      <td>-0.017303</td>\n",
       "      <td>1.159121</td>\n",
       "    </tr>\n",
       "    <tr>\n",
       "      <th>3</th>\n",
       "      <td>3</td>\n",
       "      <td>-0.605100</td>\n",
       "      <td>0.001487</td>\n",
       "      <td>-0.000136</td>\n",
       "      <td>0.458181</td>\n",
       "      <td>-0.077596</td>\n",
       "      <td>-0.616251</td>\n",
       "      <td>0.031854</td>\n",
       "      <td>-0.129628</td>\n",
       "      <td>0.090816</td>\n",
       "      <td>0.611080</td>\n",
       "    </tr>\n",
       "    <tr>\n",
       "      <th>4</th>\n",
       "      <td>4</td>\n",
       "      <td>-0.951038</td>\n",
       "      <td>0.000339</td>\n",
       "      <td>0.008169</td>\n",
       "      <td>-0.007327</td>\n",
       "      <td>0.000778</td>\n",
       "      <td>-0.516757</td>\n",
       "      <td>0.522114</td>\n",
       "      <td>-0.031599</td>\n",
       "      <td>0.009877</td>\n",
       "      <td>0.855227</td>\n",
       "    </tr>\n",
       "  </tbody>\n",
       "</table>\n",
       "</div>"
      ],
      "text/plain": [
       "   columnindex     dim_0     dim_1     dim_2     dim_3     dim_4     dim_5  \\\n",
       "0            0 -1.015527  0.037446  0.108176 -0.290837  0.037292 -0.437422   \n",
       "1            1 -1.904077  0.071128  0.174555 -0.974073  0.181103 -0.770220   \n",
       "2            2 -0.393558 -0.008361 -0.023525 -0.211169  0.062322 -0.513738   \n",
       "3            3 -0.605100  0.001487 -0.000136  0.458181 -0.077596 -0.616251   \n",
       "4            4 -0.951038  0.000339  0.008169 -0.007327  0.000778 -0.516757   \n",
       "\n",
       "      dim_6     dim_7     dim_8     dim_9  \n",
       "0 -0.829497 -0.117866 -0.070543  0.141948  \n",
       "1 -1.145675 -0.126716 -0.050403  0.231671  \n",
       "2  0.258782  0.048655 -0.017303  1.159121  \n",
       "3  0.031854 -0.129628  0.090816  0.611080  \n",
       "4  0.522114 -0.031599  0.009877  0.855227  "
      ]
     },
     "execution_count": 14,
     "metadata": {},
     "output_type": "execute_result"
    }
   ],
   "source": [
    "for i in range(0,10):\n",
    "    prediction = prediction.withColumn(\"dim_{}\".format(i),prediction.dimensions[i])\n",
    "\n",
    "prediction = prediction.select([\"columnindex\", \"dim_0\", \"dim_1\", \"dim_2\", \"dim_3\", \"dim_4\", \n",
    "                                \"dim_5\", \"dim_6\", \"dim_7\", \"dim_8\", \"dim_9\"])\n",
    "prediction.limit(5).toPandas()"
   ]
  },
  {
   "cell_type": "code",
   "execution_count": 15,
   "id": "serial-disco",
   "metadata": {},
   "outputs": [
    {
     "data": {
      "text/html": [
       "<div>\n",
       "<style scoped>\n",
       "    .dataframe tbody tr th:only-of-type {\n",
       "        vertical-align: middle;\n",
       "    }\n",
       "\n",
       "    .dataframe tbody tr th {\n",
       "        vertical-align: top;\n",
       "    }\n",
       "\n",
       "    .dataframe thead th {\n",
       "        text-align: right;\n",
       "    }\n",
       "</style>\n",
       "<table border=\"1\" class=\"dataframe\">\n",
       "  <thead>\n",
       "    <tr style=\"text-align: right;\">\n",
       "      <th></th>\n",
       "      <th>columnindex</th>\n",
       "      <th>dim_0</th>\n",
       "      <th>dim_1</th>\n",
       "      <th>dim_2</th>\n",
       "      <th>dim_3</th>\n",
       "      <th>dim_4</th>\n",
       "      <th>dim_5</th>\n",
       "      <th>dim_6</th>\n",
       "      <th>dim_7</th>\n",
       "      <th>dim_8</th>\n",
       "      <th>dim_9</th>\n",
       "    </tr>\n",
       "  </thead>\n",
       "  <tbody>\n",
       "    <tr>\n",
       "      <th>0</th>\n",
       "      <td>25769805879</td>\n",
       "      <td>-0.786698</td>\n",
       "      <td>0.044635</td>\n",
       "      <td>0.104801</td>\n",
       "      <td>-0.261875</td>\n",
       "      <td>-0.049682</td>\n",
       "      <td>-0.588091</td>\n",
       "      <td>-0.968061</td>\n",
       "      <td>-0.084342</td>\n",
       "      <td>-0.223354</td>\n",
       "      <td>0.047074</td>\n",
       "    </tr>\n",
       "    <tr>\n",
       "      <th>1</th>\n",
       "      <td>25769805880</td>\n",
       "      <td>-1.828583</td>\n",
       "      <td>0.088975</td>\n",
       "      <td>0.197922</td>\n",
       "      <td>-1.028102</td>\n",
       "      <td>0.013583</td>\n",
       "      <td>-0.982057</td>\n",
       "      <td>-1.147307</td>\n",
       "      <td>0.047502</td>\n",
       "      <td>-0.603387</td>\n",
       "      <td>0.434931</td>\n",
       "    </tr>\n",
       "  </tbody>\n",
       "</table>\n",
       "</div>"
      ],
      "text/plain": [
       "   columnindex     dim_0     dim_1     dim_2     dim_3     dim_4     dim_5  \\\n",
       "0  25769805879 -0.786698  0.044635  0.104801 -0.261875 -0.049682 -0.588091   \n",
       "1  25769805880 -1.828583  0.088975  0.197922 -1.028102  0.013583 -0.982057   \n",
       "\n",
       "      dim_6     dim_7     dim_8     dim_9  \n",
       "0 -0.968061 -0.084342 -0.223354  0.047074  \n",
       "1 -1.147307  0.047502 -0.603387  0.434931  "
      ]
     },
     "execution_count": 15,
     "metadata": {},
     "output_type": "execute_result"
    }
   ],
   "source": [
    "prediction.where((F.col(\"columnindex\")==25769805879) | (F.col(\"columnindex\")==25769805880)).toPandas()"
   ]
  },
  {
   "cell_type": "code",
   "execution_count": 16,
   "id": "varying-galaxy",
   "metadata": {},
   "outputs": [],
   "source": [
    "prediction.toPandas().to_csv(\"mojo_predictions_wo_coalesce.csv\", index = False)"
   ]
  },
  {
   "cell_type": "markdown",
   "id": "universal-alaska",
   "metadata": {},
   "source": [
    "# Coalescing Partitions before Model Prediction"
   ]
  },
  {
   "cell_type": "code",
   "execution_count": 17,
   "id": "demographic-geometry",
   "metadata": {},
   "outputs": [
    {
     "name": "stdout",
     "output_type": "stream",
     "text": [
      "Number Partitions:1\n"
     ]
    }
   ],
   "source": [
    "spark_df = spark_df.coalesce(1)\n",
    "print(\"Number Partitions:\" + str(spark_df.rdd.getNumPartitions()))"
   ]
  },
  {
   "cell_type": "code",
   "execution_count": 18,
   "id": "ancient-inquiry",
   "metadata": {},
   "outputs": [
    {
     "data": {
      "text/html": [
       "<div>\n",
       "<style scoped>\n",
       "    .dataframe tbody tr th:only-of-type {\n",
       "        vertical-align: middle;\n",
       "    }\n",
       "\n",
       "    .dataframe tbody tr th {\n",
       "        vertical-align: top;\n",
       "    }\n",
       "\n",
       "    .dataframe thead th {\n",
       "        text-align: right;\n",
       "    }\n",
       "</style>\n",
       "<table border=\"1\" class=\"dataframe\">\n",
       "  <thead>\n",
       "    <tr style=\"text-align: right;\">\n",
       "      <th></th>\n",
       "      <th>total_households</th>\n",
       "      <th>family_households</th>\n",
       "      <th>families_w_children_under_18</th>\n",
       "      <th>prediction</th>\n",
       "    </tr>\n",
       "  </thead>\n",
       "  <tbody>\n",
       "    <tr>\n",
       "      <th>0</th>\n",
       "      <td>7056.0</td>\n",
       "      <td>4085.0</td>\n",
       "      <td>1678.0</td>\n",
       "      <td>([-1.0155266326488948, 0.037445892075809166, 0...</td>\n",
       "    </tr>\n",
       "  </tbody>\n",
       "</table>\n",
       "</div>"
      ],
      "text/plain": [
       "   total_households  family_households  families_w_children_under_18  \\\n",
       "0            7056.0             4085.0                        1678.0   \n",
       "\n",
       "                                          prediction  \n",
       "0  ([-1.0155266326488948, 0.037445892075809166, 0...  "
      ]
     },
     "execution_count": 18,
     "metadata": {},
     "output_type": "execute_result"
    }
   ],
   "source": [
    "preds = model.transform(spark_df)\n",
    "preds.select(\"total_households\", \"family_households\", \"families_w_children_under_18\",\"prediction\").limit(1).toPandas()"
   ]
  },
  {
   "cell_type": "code",
   "execution_count": 19,
   "id": "annoying-worst",
   "metadata": {},
   "outputs": [
    {
     "name": "stdout",
     "output_type": "stream",
     "text": [
      "+-----------+--------------------+\n",
      "|columnindex|                 col|\n",
      "+-----------+--------------------+\n",
      "|          0| -1.0155266326488948|\n",
      "|          0|0.037445892075809166|\n",
      "|          0| 0.10817576042121546|\n",
      "|          0| -0.2908371756267977|\n",
      "|          0| 0.03729210222908052|\n",
      "|          0|-0.43742208666031224|\n",
      "|          0| -0.8294971394172237|\n",
      "|          0|-0.11786640997612814|\n",
      "|          0|-0.07054274199263487|\n",
      "|          0| 0.14194849295052916|\n",
      "+-----------+--------------------+\n",
      "only showing top 10 rows\n",
      "\n"
     ]
    }
   ],
   "source": [
    "prediction = preds.select([\"columnindex\",\"prediction.*\"])\n",
    "prediction.select(\"columnindex\",F.explode(F.col(\"dimensions\"))).show(10)"
   ]
  },
  {
   "cell_type": "code",
   "execution_count": 20,
   "id": "medieval-burner",
   "metadata": {},
   "outputs": [
    {
     "name": "stdout",
     "output_type": "stream",
     "text": [
      "+-----------+--------------------+\n",
      "|columnindex|                 col|\n",
      "+-----------+--------------------+\n",
      "|25769805880| -0.7630376934081667|\n",
      "|25769805880| 0.04222480619531732|\n",
      "|25769805880| 0.10292224631855686|\n",
      "|25769805880|-0.22639464082485053|\n",
      "|25769805880|-0.04749883767023598|\n",
      "|25769805880| -0.5637302680349653|\n",
      "|25769805880| -1.0651128528810487|\n",
      "|25769805880|-0.08372312815885755|\n",
      "|25769805880|-0.21484516371447193|\n",
      "|25769805880| 0.08854260735773849|\n",
      "+-----------+--------------------+\n",
      "\n"
     ]
    }
   ],
   "source": [
    "prediction.select(\"columnindex\",\n",
    "                  F.explode(F.col(\"dimensions\"))).where(F.col(\"columnindex\")==25769805880).show()"
   ]
  },
  {
   "cell_type": "code",
   "execution_count": 21,
   "id": "large-homework",
   "metadata": {},
   "outputs": [
    {
     "data": {
      "text/html": [
       "<div>\n",
       "<style scoped>\n",
       "    .dataframe tbody tr th:only-of-type {\n",
       "        vertical-align: middle;\n",
       "    }\n",
       "\n",
       "    .dataframe tbody tr th {\n",
       "        vertical-align: top;\n",
       "    }\n",
       "\n",
       "    .dataframe thead th {\n",
       "        text-align: right;\n",
       "    }\n",
       "</style>\n",
       "<table border=\"1\" class=\"dataframe\">\n",
       "  <thead>\n",
       "    <tr style=\"text-align: right;\">\n",
       "      <th></th>\n",
       "      <th>columnindex</th>\n",
       "      <th>dim_0</th>\n",
       "      <th>dim_1</th>\n",
       "      <th>dim_2</th>\n",
       "      <th>dim_3</th>\n",
       "      <th>dim_4</th>\n",
       "      <th>dim_5</th>\n",
       "      <th>dim_6</th>\n",
       "      <th>dim_7</th>\n",
       "      <th>dim_8</th>\n",
       "      <th>dim_9</th>\n",
       "    </tr>\n",
       "  </thead>\n",
       "  <tbody>\n",
       "    <tr>\n",
       "      <th>0</th>\n",
       "      <td>0</td>\n",
       "      <td>-1.015527</td>\n",
       "      <td>0.037446</td>\n",
       "      <td>0.108176</td>\n",
       "      <td>-0.290837</td>\n",
       "      <td>0.037292</td>\n",
       "      <td>-0.437422</td>\n",
       "      <td>-0.829497</td>\n",
       "      <td>-0.117866</td>\n",
       "      <td>-0.070543</td>\n",
       "      <td>0.141948</td>\n",
       "    </tr>\n",
       "    <tr>\n",
       "      <th>1</th>\n",
       "      <td>1</td>\n",
       "      <td>-1.904077</td>\n",
       "      <td>0.071128</td>\n",
       "      <td>0.174555</td>\n",
       "      <td>-0.974073</td>\n",
       "      <td>0.181103</td>\n",
       "      <td>-0.770220</td>\n",
       "      <td>-1.145675</td>\n",
       "      <td>-0.126716</td>\n",
       "      <td>-0.050403</td>\n",
       "      <td>0.231671</td>\n",
       "    </tr>\n",
       "    <tr>\n",
       "      <th>2</th>\n",
       "      <td>2</td>\n",
       "      <td>-0.393558</td>\n",
       "      <td>-0.008361</td>\n",
       "      <td>-0.023525</td>\n",
       "      <td>-0.211169</td>\n",
       "      <td>0.062322</td>\n",
       "      <td>-0.513738</td>\n",
       "      <td>0.258782</td>\n",
       "      <td>0.048655</td>\n",
       "      <td>-0.017303</td>\n",
       "      <td>1.159121</td>\n",
       "    </tr>\n",
       "    <tr>\n",
       "      <th>3</th>\n",
       "      <td>3</td>\n",
       "      <td>-0.605100</td>\n",
       "      <td>0.001487</td>\n",
       "      <td>-0.000136</td>\n",
       "      <td>0.458181</td>\n",
       "      <td>-0.077596</td>\n",
       "      <td>-0.616251</td>\n",
       "      <td>0.031854</td>\n",
       "      <td>-0.129628</td>\n",
       "      <td>0.090816</td>\n",
       "      <td>0.611080</td>\n",
       "    </tr>\n",
       "    <tr>\n",
       "      <th>4</th>\n",
       "      <td>4</td>\n",
       "      <td>-0.951038</td>\n",
       "      <td>0.000339</td>\n",
       "      <td>0.008169</td>\n",
       "      <td>-0.007327</td>\n",
       "      <td>0.000778</td>\n",
       "      <td>-0.516757</td>\n",
       "      <td>0.522114</td>\n",
       "      <td>-0.031599</td>\n",
       "      <td>0.009877</td>\n",
       "      <td>0.855227</td>\n",
       "    </tr>\n",
       "  </tbody>\n",
       "</table>\n",
       "</div>"
      ],
      "text/plain": [
       "   columnindex     dim_0     dim_1     dim_2     dim_3     dim_4     dim_5  \\\n",
       "0            0 -1.015527  0.037446  0.108176 -0.290837  0.037292 -0.437422   \n",
       "1            1 -1.904077  0.071128  0.174555 -0.974073  0.181103 -0.770220   \n",
       "2            2 -0.393558 -0.008361 -0.023525 -0.211169  0.062322 -0.513738   \n",
       "3            3 -0.605100  0.001487 -0.000136  0.458181 -0.077596 -0.616251   \n",
       "4            4 -0.951038  0.000339  0.008169 -0.007327  0.000778 -0.516757   \n",
       "\n",
       "      dim_6     dim_7     dim_8     dim_9  \n",
       "0 -0.829497 -0.117866 -0.070543  0.141948  \n",
       "1 -1.145675 -0.126716 -0.050403  0.231671  \n",
       "2  0.258782  0.048655 -0.017303  1.159121  \n",
       "3  0.031854 -0.129628  0.090816  0.611080  \n",
       "4  0.522114 -0.031599  0.009877  0.855227  "
      ]
     },
     "execution_count": 21,
     "metadata": {},
     "output_type": "execute_result"
    }
   ],
   "source": [
    "for i in range(0,10):\n",
    "    prediction = prediction.withColumn(\"dim_{}\".format(i),prediction.dimensions[i])\n",
    "\n",
    "prediction = prediction.select([\"columnindex\", \"dim_0\", \"dim_1\", \"dim_2\", \"dim_3\", \"dim_4\", \n",
    "                                \"dim_5\", \"dim_6\", \"dim_7\", \"dim_8\", \"dim_9\"])\n",
    "prediction.limit(5).toPandas()"
   ]
  },
  {
   "cell_type": "code",
   "execution_count": 22,
   "id": "internal-august",
   "metadata": {},
   "outputs": [
    {
     "data": {
      "text/html": [
       "<div>\n",
       "<style scoped>\n",
       "    .dataframe tbody tr th:only-of-type {\n",
       "        vertical-align: middle;\n",
       "    }\n",
       "\n",
       "    .dataframe tbody tr th {\n",
       "        vertical-align: top;\n",
       "    }\n",
       "\n",
       "    .dataframe thead th {\n",
       "        text-align: right;\n",
       "    }\n",
       "</style>\n",
       "<table border=\"1\" class=\"dataframe\">\n",
       "  <thead>\n",
       "    <tr style=\"text-align: right;\">\n",
       "      <th></th>\n",
       "      <th>columnindex</th>\n",
       "      <th>dim_0</th>\n",
       "      <th>dim_1</th>\n",
       "      <th>dim_2</th>\n",
       "      <th>dim_3</th>\n",
       "      <th>dim_4</th>\n",
       "      <th>dim_5</th>\n",
       "      <th>dim_6</th>\n",
       "      <th>dim_7</th>\n",
       "      <th>dim_8</th>\n",
       "      <th>dim_9</th>\n",
       "    </tr>\n",
       "  </thead>\n",
       "  <tbody>\n",
       "    <tr>\n",
       "      <th>0</th>\n",
       "      <td>25769805879</td>\n",
       "      <td>-0.786698</td>\n",
       "      <td>0.044635</td>\n",
       "      <td>0.104801</td>\n",
       "      <td>-0.261875</td>\n",
       "      <td>-0.049682</td>\n",
       "      <td>-0.588091</td>\n",
       "      <td>-0.968061</td>\n",
       "      <td>-0.084342</td>\n",
       "      <td>-0.223354</td>\n",
       "      <td>0.047074</td>\n",
       "    </tr>\n",
       "    <tr>\n",
       "      <th>1</th>\n",
       "      <td>25769805880</td>\n",
       "      <td>-1.828583</td>\n",
       "      <td>0.088975</td>\n",
       "      <td>0.197922</td>\n",
       "      <td>-1.028102</td>\n",
       "      <td>0.013583</td>\n",
       "      <td>-0.982057</td>\n",
       "      <td>-1.147307</td>\n",
       "      <td>0.047502</td>\n",
       "      <td>-0.603387</td>\n",
       "      <td>0.434931</td>\n",
       "    </tr>\n",
       "  </tbody>\n",
       "</table>\n",
       "</div>"
      ],
      "text/plain": [
       "   columnindex     dim_0     dim_1     dim_2     dim_3     dim_4     dim_5  \\\n",
       "0  25769805879 -0.786698  0.044635  0.104801 -0.261875 -0.049682 -0.588091   \n",
       "1  25769805880 -1.828583  0.088975  0.197922 -1.028102  0.013583 -0.982057   \n",
       "\n",
       "      dim_6     dim_7     dim_8     dim_9  \n",
       "0 -0.968061 -0.084342 -0.223354  0.047074  \n",
       "1 -1.147307  0.047502 -0.603387  0.434931  "
      ]
     },
     "execution_count": 22,
     "metadata": {},
     "output_type": "execute_result"
    }
   ],
   "source": [
    "prediction.where((F.col(\"columnindex\")==25769805879) | (F.col(\"columnindex\")==25769805880)).toPandas()"
   ]
  },
  {
   "cell_type": "code",
   "execution_count": 23,
   "id": "dietary-general",
   "metadata": {},
   "outputs": [],
   "source": [
    "prediction.toPandas().to_csv(\"mojo_predictions_w_coalesce.csv\", index = False)"
   ]
  },
  {
   "cell_type": "code",
   "execution_count": null,
   "id": "gross-overview",
   "metadata": {},
   "outputs": [],
   "source": []
  }
 ],
 "metadata": {
  "kernelspec": {
   "display_name": "Python 3",
   "language": "python",
   "name": "python3"
  },
  "language_info": {
   "codemirror_mode": {
    "name": "ipython",
    "version": 3
   },
   "file_extension": ".py",
   "mimetype": "text/x-python",
   "name": "python",
   "nbconvert_exporter": "python",
   "pygments_lexer": "ipython3",
   "version": "3.7.0"
  }
 },
 "nbformat": 4,
 "nbformat_minor": 5
}
